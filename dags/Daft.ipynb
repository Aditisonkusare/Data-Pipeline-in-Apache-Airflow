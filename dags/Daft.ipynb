{
 "cells": [
  {
   "cell_type": "code",
   "execution_count": 1,
   "metadata": {},
   "outputs": [],
   "source": [
    "import pandas as pd\n",
    "import re"
   ]
  },
  {
   "cell_type": "code",
   "execution_count": 2,
   "metadata": {},
   "outputs": [],
   "source": [
    "df = pd.read_csv(\"~/daft.ie_dataengineering_and_analysis/daft.ie_dataengineering_and_analysis/include/data_v1.csv\")"
   ]
  },
  {
   "cell_type": "code",
   "execution_count": 3,
   "metadata": {},
   "outputs": [],
   "source": [
    "df['COUNTY'] = df.Location.apply(lambda x : re.split('[._]', x)[-1])"
   ]
  },
  {
   "cell_type": "code",
   "execution_count": 4,
   "metadata": {},
   "outputs": [
    {
     "data": {
      "text/html": [
       "<div>\n",
       "<style scoped>\n",
       "    .dataframe tbody tr th:only-of-type {\n",
       "        vertical-align: middle;\n",
       "    }\n",
       "\n",
       "    .dataframe tbody tr th {\n",
       "        vertical-align: top;\n",
       "    }\n",
       "\n",
       "    .dataframe thead th {\n",
       "        text-align: right;\n",
       "    }\n",
       "</style>\n",
       "<table border=\"1\" class=\"dataframe\">\n",
       "  <thead>\n",
       "    <tr style=\"text-align: right;\">\n",
       "      <th></th>\n",
       "      <th>AGENT_ID</th>\n",
       "      <th>AGENT_BRANCH</th>\n",
       "      <th>AGENT_NAME</th>\n",
       "      <th>AGENT_SELLER_TYPE</th>\n",
       "    </tr>\n",
       "  </thead>\n",
       "  <tbody>\n",
       "    <tr>\n",
       "      <th>0</th>\n",
       "      <td>11192</td>\n",
       "      <td>Sherry Fitzgerald Madden</td>\n",
       "      <td>Niamh Madden</td>\n",
       "      <td>BRANDED_AGENT</td>\n",
       "    </tr>\n",
       "    <tr>\n",
       "      <th>1</th>\n",
       "      <td>1216</td>\n",
       "      <td>Keary Auctioneering and Insurances</td>\n",
       "      <td>Kenneth Keary</td>\n",
       "      <td>UNBRANDED_AGENT</td>\n",
       "    </tr>\n",
       "    <tr>\n",
       "      <th>2</th>\n",
       "      <td>11192</td>\n",
       "      <td>Sherry Fitzgerald Madden</td>\n",
       "      <td>Niamh Madden</td>\n",
       "      <td>BRANDED_AGENT</td>\n",
       "    </tr>\n",
       "    <tr>\n",
       "      <th>3</th>\n",
       "      <td>1216</td>\n",
       "      <td>Keary Auctioneering and Insurances</td>\n",
       "      <td>Kenneth Keary</td>\n",
       "      <td>UNBRANDED_AGENT</td>\n",
       "    </tr>\n",
       "    <tr>\n",
       "      <th>4</th>\n",
       "      <td>6843</td>\n",
       "      <td>Gary O'Driscoll &amp; Co Ltd</td>\n",
       "      <td>Gary O'Driscoll  B.Sc. MIPAV MCEI</td>\n",
       "      <td>UNBRANDED_AGENT</td>\n",
       "    </tr>\n",
       "    <tr>\n",
       "      <th>...</th>\n",
       "      <td>...</td>\n",
       "      <td>...</td>\n",
       "      <td>...</td>\n",
       "      <td>...</td>\n",
       "    </tr>\n",
       "    <tr>\n",
       "      <th>13927</th>\n",
       "      <td>2908</td>\n",
       "      <td>Kehoe Auctioneers</td>\n",
       "      <td>Eoin Kehoe</td>\n",
       "      <td>BRANDED_AGENT</td>\n",
       "    </tr>\n",
       "    <tr>\n",
       "      <th>13928</th>\n",
       "      <td>2534</td>\n",
       "      <td>Sherry FitzGerald McDermott</td>\n",
       "      <td>James McDermott</td>\n",
       "      <td>BRANDED_AGENT</td>\n",
       "    </tr>\n",
       "    <tr>\n",
       "      <th>13929</th>\n",
       "      <td>2261</td>\n",
       "      <td>REA Sothern</td>\n",
       "      <td>Harry Sothern</td>\n",
       "      <td>BRANDED_AGENT</td>\n",
       "    </tr>\n",
       "    <tr>\n",
       "      <th>13930</th>\n",
       "      <td>10158</td>\n",
       "      <td>Dublin Host Families</td>\n",
       "      <td>Jason Denton</td>\n",
       "      <td>UNBRANDED_AGENT</td>\n",
       "    </tr>\n",
       "    <tr>\n",
       "      <th>13931</th>\n",
       "      <td>10158</td>\n",
       "      <td>Dublin Host Families</td>\n",
       "      <td>Jason Denton</td>\n",
       "      <td>UNBRANDED_AGENT</td>\n",
       "    </tr>\n",
       "  </tbody>\n",
       "</table>\n",
       "<p>13932 rows × 4 columns</p>\n",
       "</div>"
      ],
      "text/plain": [
       "       AGENT_ID                        AGENT_BRANCH  \\\n",
       "0         11192            Sherry Fitzgerald Madden   \n",
       "1          1216  Keary Auctioneering and Insurances   \n",
       "2         11192            Sherry Fitzgerald Madden   \n",
       "3          1216  Keary Auctioneering and Insurances   \n",
       "4          6843            Gary O'Driscoll & Co Ltd   \n",
       "...         ...                                 ...   \n",
       "13927      2908                   Kehoe Auctioneers   \n",
       "13928      2534         Sherry FitzGerald McDermott   \n",
       "13929      2261                         REA Sothern   \n",
       "13930     10158                Dublin Host Families   \n",
       "13931     10158                Dublin Host Families   \n",
       "\n",
       "                              AGENT_NAME AGENT_SELLER_TYPE  \n",
       "0                           Niamh Madden     BRANDED_AGENT  \n",
       "1                          Kenneth Keary   UNBRANDED_AGENT  \n",
       "2                           Niamh Madden     BRANDED_AGENT  \n",
       "3                          Kenneth Keary   UNBRANDED_AGENT  \n",
       "4      Gary O'Driscoll  B.Sc. MIPAV MCEI   UNBRANDED_AGENT  \n",
       "...                                  ...               ...  \n",
       "13927                         Eoin Kehoe     BRANDED_AGENT  \n",
       "13928                    James McDermott     BRANDED_AGENT  \n",
       "13929                      Harry Sothern     BRANDED_AGENT  \n",
       "13930                       Jason Denton   UNBRANDED_AGENT  \n",
       "13931                       Jason Denton   UNBRANDED_AGENT  \n",
       "\n",
       "[13932 rows x 4 columns]"
      ]
     },
     "execution_count": 4,
     "metadata": {},
     "output_type": "execute_result"
    }
   ],
   "source": [
    "df[[\"AGENT_ID\", \"AGENT_BRANCH\", \"AGENT_NAME\", \"AGENT_SELLER_TYPE\"]]"
   ]
  },
  {
   "cell_type": "code",
   "execution_count": 5,
   "metadata": {},
   "outputs": [
    {
     "data": {
      "text/plain": [
       "array(['GALWAY', 'KERRY', 'LIMERICK', 'LONGFORD', 'LAOIS', 'MAYO',\n",
       "       'SLIGO', 'DUBLIN', 'WEXFORD', 'CORK', 'MONAGHAN', 'LEITRIM',\n",
       "       'DERRY', 'FERMANAGH', 'WATERFORD', 'OFFALY', 'TIPPERARY',\n",
       "       'KILDARE', 'ROSCOMMON', 'DONEGAL', 'CLARE', 'DOWN', 'LOUTH',\n",
       "       'WICKLOW', 'ANTRIM', 'WESTMEATH', 'MEATH', 'CARLOW', 'CAVAN'],\n",
       "      dtype=object)"
      ]
     },
     "execution_count": 5,
     "metadata": {},
     "output_type": "execute_result"
    }
   ],
   "source": [
    "df['COUNTY'].unique()"
   ]
  },
  {
   "cell_type": "code",
   "execution_count": 6,
   "metadata": {},
   "outputs": [],
   "source": [
    "df['SaleType'] = df.SearchType.apply(lambda x : x.split('.')[-1])"
   ]
  },
  {
   "cell_type": "code",
   "execution_count": 7,
   "metadata": {},
   "outputs": [],
   "source": [
    "df['PropertyType'] = df.PropertyType.apply(lambda x : x.split('.')[-1])"
   ]
  },
  {
   "cell_type": "code",
   "execution_count": 8,
   "metadata": {},
   "outputs": [],
   "source": [
    "pd.set_option('display.max_columns', None)\n",
    "df.rename(columns={\"TITLE\": \"ADDRESS\"}, inplace = True)"
   ]
  },
  {
   "cell_type": "code",
   "execution_count": 9,
   "metadata": {},
   "outputs": [],
   "source": [
    "df = df[['ID', 'ADDRESS', 'COUNTY', 'SaleType', 'PropertyType', 'BATHROOMS', 'BEDROOMS', 'BER', 'CATEGORY', 'MONTHLY_PRICE', 'PRICE', 'LATITUDE', 'LONGITUDE', 'PUBLISH_DATE', 'AGENT_ID', \"AGENT_BRANCH\", \"AGENT_NAME\", \"AGENT_SELLER_TYPE\"]]"
   ]
  },
  {
   "cell_type": "code",
   "execution_count": 10,
   "metadata": {},
   "outputs": [
    {
     "data": {
      "text/html": [
       "<div>\n",
       "<style scoped>\n",
       "    .dataframe tbody tr th:only-of-type {\n",
       "        vertical-align: middle;\n",
       "    }\n",
       "\n",
       "    .dataframe tbody tr th {\n",
       "        vertical-align: top;\n",
       "    }\n",
       "\n",
       "    .dataframe thead th {\n",
       "        text-align: right;\n",
       "    }\n",
       "</style>\n",
       "<table border=\"1\" class=\"dataframe\">\n",
       "  <thead>\n",
       "    <tr style=\"text-align: right;\">\n",
       "      <th></th>\n",
       "      <th>AGENT_ID</th>\n",
       "      <th>AGENT_BRANCH</th>\n",
       "      <th>AGENT_NAME</th>\n",
       "      <th>AGENT_SELLER_TYPE</th>\n",
       "    </tr>\n",
       "  </thead>\n",
       "  <tbody>\n",
       "    <tr>\n",
       "      <th>0</th>\n",
       "      <td>11192</td>\n",
       "      <td>Sherry Fitzgerald Madden</td>\n",
       "      <td>Niamh Madden</td>\n",
       "      <td>BRANDED_AGENT</td>\n",
       "    </tr>\n",
       "    <tr>\n",
       "      <th>1</th>\n",
       "      <td>1216</td>\n",
       "      <td>Keary Auctioneering and Insurances</td>\n",
       "      <td>Kenneth Keary</td>\n",
       "      <td>UNBRANDED_AGENT</td>\n",
       "    </tr>\n",
       "    <tr>\n",
       "      <th>2</th>\n",
       "      <td>11192</td>\n",
       "      <td>Sherry Fitzgerald Madden</td>\n",
       "      <td>Niamh Madden</td>\n",
       "      <td>BRANDED_AGENT</td>\n",
       "    </tr>\n",
       "    <tr>\n",
       "      <th>3</th>\n",
       "      <td>1216</td>\n",
       "      <td>Keary Auctioneering and Insurances</td>\n",
       "      <td>Kenneth Keary</td>\n",
       "      <td>UNBRANDED_AGENT</td>\n",
       "    </tr>\n",
       "    <tr>\n",
       "      <th>4</th>\n",
       "      <td>6843</td>\n",
       "      <td>Gary O'Driscoll &amp; Co Ltd</td>\n",
       "      <td>Gary O'Driscoll  B.Sc. MIPAV MCEI</td>\n",
       "      <td>UNBRANDED_AGENT</td>\n",
       "    </tr>\n",
       "    <tr>\n",
       "      <th>...</th>\n",
       "      <td>...</td>\n",
       "      <td>...</td>\n",
       "      <td>...</td>\n",
       "      <td>...</td>\n",
       "    </tr>\n",
       "    <tr>\n",
       "      <th>13927</th>\n",
       "      <td>2908</td>\n",
       "      <td>Kehoe Auctioneers</td>\n",
       "      <td>Eoin Kehoe</td>\n",
       "      <td>BRANDED_AGENT</td>\n",
       "    </tr>\n",
       "    <tr>\n",
       "      <th>13928</th>\n",
       "      <td>2534</td>\n",
       "      <td>Sherry FitzGerald McDermott</td>\n",
       "      <td>James McDermott</td>\n",
       "      <td>BRANDED_AGENT</td>\n",
       "    </tr>\n",
       "    <tr>\n",
       "      <th>13929</th>\n",
       "      <td>2261</td>\n",
       "      <td>REA Sothern</td>\n",
       "      <td>Harry Sothern</td>\n",
       "      <td>BRANDED_AGENT</td>\n",
       "    </tr>\n",
       "    <tr>\n",
       "      <th>13930</th>\n",
       "      <td>10158</td>\n",
       "      <td>Dublin Host Families</td>\n",
       "      <td>Jason Denton</td>\n",
       "      <td>UNBRANDED_AGENT</td>\n",
       "    </tr>\n",
       "    <tr>\n",
       "      <th>13931</th>\n",
       "      <td>10158</td>\n",
       "      <td>Dublin Host Families</td>\n",
       "      <td>Jason Denton</td>\n",
       "      <td>UNBRANDED_AGENT</td>\n",
       "    </tr>\n",
       "  </tbody>\n",
       "</table>\n",
       "<p>13932 rows × 4 columns</p>\n",
       "</div>"
      ],
      "text/plain": [
       "       AGENT_ID                        AGENT_BRANCH  \\\n",
       "0         11192            Sherry Fitzgerald Madden   \n",
       "1          1216  Keary Auctioneering and Insurances   \n",
       "2         11192            Sherry Fitzgerald Madden   \n",
       "3          1216  Keary Auctioneering and Insurances   \n",
       "4          6843            Gary O'Driscoll & Co Ltd   \n",
       "...         ...                                 ...   \n",
       "13927      2908                   Kehoe Auctioneers   \n",
       "13928      2534         Sherry FitzGerald McDermott   \n",
       "13929      2261                         REA Sothern   \n",
       "13930     10158                Dublin Host Families   \n",
       "13931     10158                Dublin Host Families   \n",
       "\n",
       "                              AGENT_NAME AGENT_SELLER_TYPE  \n",
       "0                           Niamh Madden     BRANDED_AGENT  \n",
       "1                          Kenneth Keary   UNBRANDED_AGENT  \n",
       "2                           Niamh Madden     BRANDED_AGENT  \n",
       "3                          Kenneth Keary   UNBRANDED_AGENT  \n",
       "4      Gary O'Driscoll  B.Sc. MIPAV MCEI   UNBRANDED_AGENT  \n",
       "...                                  ...               ...  \n",
       "13927                         Eoin Kehoe     BRANDED_AGENT  \n",
       "13928                    James McDermott     BRANDED_AGENT  \n",
       "13929                      Harry Sothern     BRANDED_AGENT  \n",
       "13930                       Jason Denton   UNBRANDED_AGENT  \n",
       "13931                       Jason Denton   UNBRANDED_AGENT  \n",
       "\n",
       "[13932 rows x 4 columns]"
      ]
     },
     "execution_count": 10,
     "metadata": {},
     "output_type": "execute_result"
    }
   ],
   "source": [
    "df[[\"AGENT_ID\", \"AGENT_BRANCH\", \"AGENT_NAME\", \"AGENT_SELLER_TYPE\"]]"
   ]
  },
  {
   "cell_type": "markdown",
   "metadata": {},
   "source": [
    "df.AGENT_ID"
   ]
  },
  {
   "cell_type": "code",
   "execution_count": 17,
   "metadata": {},
   "outputs": [
    {
     "data": {
      "text/plain": [
       "ID                     int64\n",
       "ADDRESS               object\n",
       "COUNTY                object\n",
       "SaleType              object\n",
       "PropertyType          object\n",
       "BATHROOMS             object\n",
       "BEDROOMS              object\n",
       "BER                   object\n",
       "CATEGORY              object\n",
       "MONTHLY_PRICE         object\n",
       "PRICE                 object\n",
       "LATITUDE             float64\n",
       "LONGITUDE            float64\n",
       "PUBLISH_DATE          object\n",
       "AGENT_ID               int64\n",
       "AGENT_BRANCH          object\n",
       "AGENT_NAME            object\n",
       "AGENT_SELLER_TYPE     object\n",
       "dtype: object"
      ]
     },
     "execution_count": 17,
     "metadata": {},
     "output_type": "execute_result"
    }
   ],
   "source": [
    "df.dtypes"
   ]
  },
  {
   "cell_type": "code",
   "execution_count": 21,
   "metadata": {},
   "outputs": [],
   "source": [
    "object_columns = df.select_dtypes(include=['object']).columns\n",
    "df[object_columns] = df[object_columns].str.replace(\"'\", \"''\")"
   ]
  },
  {
   "cell_type": "code",
   "execution_count": 22,
   "metadata": {},
   "outputs": [
    {
     "data": {
      "text/plain": [
       "ID                     int64\n",
       "ADDRESS               object\n",
       "COUNTY                object\n",
       "SaleType              object\n",
       "PropertyType          object\n",
       "BATHROOMS             object\n",
       "BEDROOMS              object\n",
       "BER                   object\n",
       "CATEGORY              object\n",
       "MONTHLY_PRICE         object\n",
       "PRICE                 object\n",
       "LATITUDE             float64\n",
       "LONGITUDE            float64\n",
       "PUBLISH_DATE          object\n",
       "AGENT_ID               int64\n",
       "AGENT_BRANCH          object\n",
       "AGENT_NAME            object\n",
       "AGENT_SELLER_TYPE     object\n",
       "dtype: object"
      ]
     },
     "execution_count": 22,
     "metadata": {},
     "output_type": "execute_result"
    }
   ],
   "source": [
    "df.dtypes"
   ]
  },
  {
   "cell_type": "code",
   "execution_count": null,
   "metadata": {},
   "outputs": [],
   "source": []
  }
 ],
 "metadata": {
  "kernelspec": {
   "display_name": "airflow",
   "language": "python",
   "name": "python3"
  },
  "language_info": {
   "codemirror_mode": {
    "name": "ipython",
    "version": 3
   },
   "file_extension": ".py",
   "mimetype": "text/x-python",
   "name": "python",
   "nbconvert_exporter": "python",
   "pygments_lexer": "ipython3",
   "version": "3.11.5"
  },
  "orig_nbformat": 4
 },
 "nbformat": 4,
 "nbformat_minor": 2
}
